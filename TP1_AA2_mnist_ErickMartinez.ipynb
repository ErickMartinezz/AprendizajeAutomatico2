{
  "nbformat": 4,
  "nbformat_minor": 0,
  "metadata": {
    "colab": {
      "provenance": [],
      "include_colab_link": true
    },
    "kernelspec": {
      "name": "python3",
      "display_name": "Python 3"
    },
    "language_info": {
      "name": "python"
    }
  },
  "cells": [
    {
      "cell_type": "markdown",
      "metadata": {
        "id": "view-in-github",
        "colab_type": "text"
      },
      "source": [
        "<a href=\"https://colab.research.google.com/github/ErickMartinezz/AprendizajeAutomatico2/blob/main/TP1_AA2_mnist_ErickMartinez.ipynb\" target=\"_parent\"><img src=\"https://colab.research.google.com/assets/colab-badge.svg\" alt=\"Open In Colab\"/></a>"
      ]
    },
    {
      "cell_type": "markdown",
      "source": [
        "# Trabajo práctico nro 1 de AA2.\n",
        "\n",
        "**ERICK MARTINEZ**\n",
        "\n",
        "\n",
        "Resolver las consignas comentando el código fuente, indicando desde dónde fue extraido o generado.\n",
        "\n",
        "Justificar cada paso realizado.\n",
        "\n",
        "Publique enlace público a su notebook en google colab y también enlace a su repositorio github de la materia.\n",
        "\n",
        "\n",
        "\n",
        "\n",
        "\n",
        "\n"
      ],
      "metadata": {
        "id": "cUWQ3OdVnEiA"
      }
    },
    {
      "cell_type": "markdown",
      "source": [
        "# Carga de librerías"
      ],
      "metadata": {
        "id": "nrGazJqlnTJy"
      }
    },
    {
      "cell_type": "code",
      "source": [
        "import torch\n",
        "import torch.nn as nn\n",
        "import torch.optim as optim\n",
        "from torch.utils.data import DataLoader, random_split\n",
        "from torch.utils.data import Dataset\n",
        "from torchvision import datasets, transforms\n"
      ],
      "metadata": {
        "id": "K9lzt1PIlunF"
      },
      "execution_count": 12,
      "outputs": []
    },
    {
      "cell_type": "markdown",
      "source": [
        "## 1- Usar pytorch para crear una clase que herede de dataset para crear un dataset propio.\n",
        "\n",
        "El dataset está basado en el original de MNIST. En este dataset sólo se guardan dos de las 10 clases del dataset original\n",
        "\n",
        "\n",
        "Clases elegidas 3 y 8\n"
      ],
      "metadata": {
        "id": "4eMP1kjQlyy6"
      }
    },
    {
      "cell_type": "code",
      "source": [
        "# prompt: usar pytorch para crear una clase que herede de dataset para crear un dataset propio. El dataset está basado en el original de MNIST. En este dataset sólo se guardan dos de las 10 clases del dataset original\n",
        "\n",
        "import torch\n",
        "from torch.utils.data import Dataset\n",
        "from torchvision import datasets, transforms\n",
        "\n",
        "class MNISTSubset(Dataset):\n",
        "    def __init__(self, root='./data', train=True, download=True, transform=None, target_classes=[0, 1]):\n",
        "        self.mnist_dataset = datasets.MNIST(root=root, train=train, download=download, transform=transform)\n",
        "        self.target_classes = target_classes\n",
        "        self.indices = [i for i, target in enumerate(self.mnist_dataset.targets) if target in self.target_classes]\n",
        "        self.targets = [self.mnist_dataset.targets[i] for i in self.indices]\n",
        "\n",
        "        # Remap targets to 0 and 1\n",
        "        self.targets = [self.target_classes.index(target) for target in self.targets]\n",
        "        self.targets = torch.tensor(self.targets)\n",
        "\n",
        "\n",
        "    def __len__(self):\n",
        "        return len(self.indices)\n",
        "\n",
        "    def __getitem__(self, idx):\n",
        "        image, _ = self.mnist_dataset[self.indices[idx]] # Get image from original MNIST dataset\n",
        "        target = self.targets[idx] # Get corresponding remapped target\n",
        "\n",
        "        return image, target\n",
        "\n",
        "\n",
        "\n"
      ],
      "metadata": {
        "id": "BTnGwWaZlaj2"
      },
      "execution_count": 13,
      "outputs": []
    },
    {
      "cell_type": "markdown",
      "source": [
        "Cambio a las clases 3 y 8"
      ],
      "metadata": {
        "id": "5h51lK15EOeU"
      }
    },
    {
      "cell_type": "markdown",
      "source": [
        "En el siguiente ejemplo, se eligen las clases 3 y 8.\n",
        "La idea es elegir números que sean algo similares para evaluar cómo nuestras distintas configuraciones de ANN se comportan a distinguir ambas clases.\n",
        "\n",
        "Puede elegir por ejemplo:\n",
        "\n",
        "* 3 y 8\n",
        "* 7  y 4\n",
        "* 0 y 8\n",
        "* 6 y 8\n",
        "* 2 y 4\n",
        "* 5 y 6\n",
        "\n",
        "### Elija pronto cuáles clases quiere distinguir y postee en el foro."
      ],
      "metadata": {
        "id": "n-Mm7-wXoA1d"
      }
    },
    {
      "cell_type": "code",
      "source": [
        "# Instantiate the custom dataset for the training set\n",
        "transform = transforms.Compose([transforms.ToTensor()])\n",
        "train_dataset = MNISTSubset(train=True, transform=transform, target_classes=[3, 8])\n",
        "\n",
        "# Print the size of the training dataset\n",
        "print(f\"Size of the training dataset: {len(train_dataset)}\")"
      ],
      "metadata": {
        "colab": {
          "base_uri": "https://localhost:8080/"
        },
        "id": "YCYEVyZHDeYI",
        "outputId": "3d10d861-b1b4-4267-844a-8144c7084e1b"
      },
      "execution_count": 14,
      "outputs": [
        {
          "output_type": "stream",
          "name": "stdout",
          "text": [
            "Size of the training dataset: 11982\n"
          ]
        }
      ]
    },
    {
      "cell_type": "markdown",
      "source": [
        "Creamos el dataset de entrenamiento filtrando solo los dígitos 3 y 8, y transformamos las imágenes a tensores. Luego mostramos la cantidad de muestras disponibles para entrenamiento.\n",
        "De los 60,000 originales, solo quedaron 11982 que son las imágenes de los dígitos 3 y 8.\n"
      ],
      "metadata": {
        "id": "gfRe-Wp7R2v0"
      }
    },
    {
      "cell_type": "markdown",
      "source": [
        "## 2- Usar el dataset anterior para crear una red neuronal profunda en Pytorch para aprender un clasificador binario.\n",
        "\n",
        "Debe contemplar tres tipos de configuraciones:\n",
        "\n",
        "* 2.1 Una donde se muestre subajuste (underfitting).\n",
        "* 2.2 Una donde considere que su funcionamiento es aceptable\n",
        "* 2.3 Una donde demuestre un comportamiento de overfitting o sobreajuste.\n",
        "\n",
        "Puede utilizar sólo nn.Linear y funciones de activación. Es sólo las redes neuronales que ya aprendieron con varias capas / unidades ocultas y funciones de activación.\n",
        "\n",
        "\n"
      ],
      "metadata": {
        "id": "SwePA2pil8K2"
      }
    },
    {
      "cell_type": "markdown",
      "source": [
        "### 2.1 Red que subajusta"
      ],
      "metadata": {
        "id": "YTcluc9tluR0"
      }
    },
    {
      "cell_type": "code",
      "source": [
        "# --- 1. Modelo que subajusta ---\n",
        "class Modelo_NN_subajusta(nn.Module):\n",
        "    def __init__(self):\n",
        "        super().__init__()\n",
        "        self.red = nn.Sequential(\n",
        "            nn.Linear(28*28, 16),  # muy pocas neuronas\n",
        "            nn.ReLU(),\n",
        "            nn.Linear(16, 2)       # salida binaria\n",
        "        )\n",
        "    def forward(self, x):\n",
        "        x = x.view(x.size(0), -1)  # aplanar imagen (batch, 784)\n",
        "        return self.red(x)\n"
      ],
      "metadata": {
        "id": "Q7YImAJCp9xt"
      },
      "execution_count": 15,
      "outputs": []
    },
    {
      "cell_type": "markdown",
      "source": [
        "Este modelo tiene muy pocas neuronas (16 en la capa oculta), por eso se espera que subajuste los datos: aprenderá parcialmente los patrones y no alcanzará una alta precisión en entrenamiento ni validación."
      ],
      "metadata": {
        "id": "pH7KI99jSghW"
      }
    },
    {
      "cell_type": "markdown",
      "source": [
        "### 2.2 Red que sobre ajusta"
      ],
      "metadata": {
        "id": "I53N6t1Goxm7"
      }
    },
    {
      "cell_type": "code",
      "source": [
        "# --- 2. Modelo que sobreajusta ---\n",
        "class Modelo_NN_SobreAjustado(nn.Module):\n",
        "    def __init__(self):\n",
        "        super().__init__()\n",
        "        self.red = nn.Sequential(\n",
        "            nn.Linear(28*28, 512),\n",
        "            nn.ReLU(),\n",
        "            nn.Linear(512, 512),\n",
        "            nn.ReLU(),\n",
        "            nn.Linear(512, 256),\n",
        "            nn.ReLU(),\n",
        "            nn.Linear(256, 128),\n",
        "            nn.ReLU(),\n",
        "            nn.Linear(128, 2)  # salida binaria\n",
        "        )\n",
        "    def forward(self, x):\n",
        "        x = x.view(x.size(0), -1)\n",
        "        return self.red(x)"
      ],
      "metadata": {
        "id": "eqwHyhaklaI0"
      },
      "execution_count": 16,
      "outputs": []
    },
    {
      "cell_type": "markdown",
      "source": [
        "Este modelo tiene muchas capas y neuronas, por lo que puede sobreajustar los datos de entrenamiento: aprende casi perfectamente el train set, pero puede fallar en generalizar a validación o test."
      ],
      "metadata": {
        "id": "ZVLid0f2Slew"
      }
    },
    {
      "cell_type": "markdown",
      "source": [
        "### 2.3 MLP aceptable"
      ],
      "metadata": {
        "id": "eFwxcO8Jo2Gd"
      }
    },
    {
      "cell_type": "code",
      "source": [
        "# --- 3. Modelo con ajuste aceptable ---\n",
        "class Modelo_NN_aceptable(nn.Module):\n",
        "    def __init__(self):\n",
        "        super().__init__()\n",
        "        self.red = nn.Sequential(\n",
        "            nn.Linear(28*28, 128),\n",
        "            nn.ReLU(),\n",
        "            nn.Linear(128, 64),\n",
        "            nn.ReLU(),\n",
        "            nn.Linear(64, 2)\n",
        "        )\n",
        "    def forward(self, x):\n",
        "        x = x.view(x.size(0), -1)\n",
        "        return self.red(x)\n"
      ],
      "metadata": {
        "id": "hfLAEh9bo2YS"
      },
      "execution_count": 17,
      "outputs": []
    },
    {
      "cell_type": "markdown",
      "source": [
        "Este modelo tiene un tamaño intermedio (128 → 64 → 2), suficiente para aprender patrones importantes de los dígitos 3 y 8, evitando tanto el subajuste como el sobreajuste. Por eso se considera un modelo aceptable."
      ],
      "metadata": {
        "id": "zkooUrHPT78k"
      }
    },
    {
      "cell_type": "markdown",
      "source": [
        "## 3 - Entrene las redes anteriores, muestre los resultados durante su entrenamiento, validación. Indique las métricas utilizadas. Justifique."
      ],
      "metadata": {
        "id": "w44bC7m8mlVR"
      }
    },
    {
      "cell_type": "markdown",
      "source": [
        "### 3.1 Cargue los datos, divida los conjuntos de datos"
      ],
      "metadata": {
        "id": "Rl9yhJ_jnnWO"
      }
    },
    {
      "cell_type": "code",
      "source": [
        "# ======================\n",
        "# 1. Dataset filtrado (MNIST: dígitos 3 y 8)\n",
        "# ======================\n",
        "class MNISTSubset(torch.utils.data.Dataset):\n",
        "    def __init__(self, root='./data', train=True, download=True, transform=None, target_classes=[3,8]):\n",
        "        self.mnist = datasets.MNIST(root=root, train=train, download=download, transform=transform)\n",
        "        self.target_classes = target_classes\n",
        "        self.indices = [i for i, t in enumerate(self.mnist.targets) if t in self.target_classes]\n",
        "        self.targets = torch.tensor([self.target_classes.index(self.mnist.targets[i]) for i in self.indices])\n",
        "    def __len__(self):\n",
        "        return len(self.indices)\n",
        "    def __getitem__(self, idx):\n",
        "        image, _ = self.mnist[self.indices[idx]]\n",
        "        target = self.targets[idx]\n",
        "        return image, target\n",
        "\n",
        "transform = transforms.ToTensor()\n",
        "train_dataset = MNISTSubset(train=True, transform=transform)\n",
        "test_dataset  = MNISTSubset(train=False, transform=transform)\n",
        "\n",
        "# Dividir train en train/valid\n",
        "train_size = int(0.8 * len(train_dataset))\n",
        "valid_size = len(train_dataset) - train_size\n",
        "train_data, valid_data = random_split(train_dataset, [train_size, valid_size])\n",
        "\n",
        "batch_size = 64\n",
        "train_loader = DataLoader(train_data, batch_size=batch_size, shuffle=True)\n",
        "valid_loader = DataLoader(valid_data, batch_size=batch_size, shuffle=False)\n",
        "test_loader  = DataLoader(test_dataset, batch_size=batch_size, shuffle=False)"
      ],
      "metadata": {
        "id": "H0pJliS5mzXz"
      },
      "execution_count": 18,
      "outputs": []
    },
    {
      "cell_type": "markdown",
      "source": [
        "Creamos un dataset filtrado de MNIST con solo los dígitos 3 y 8, lo dividimos en entrenamiento, validación y test, y definimos DataLoaders para procesar los datos en mini-batches durante el entrenamiento y evaluación."
      ],
      "metadata": {
        "id": "nroVYBpDUvoi"
      }
    },
    {
      "cell_type": "markdown",
      "source": [
        "### 3.2 Entrene cada modelo."
      ],
      "metadata": {
        "id": "f5Dd4WDLnraj"
      }
    },
    {
      "cell_type": "code",
      "source": [
        "# ======================\n",
        "# 3. Funciones de entrenamiento y evaluación\n",
        "# ======================\n",
        "def evaluar(model, loader, criterion):\n",
        "    model.eval()\n",
        "    total, correct, loss_acum = 0,0,0\n",
        "    with torch.no_grad():\n",
        "        for images, targets in loader:\n",
        "            images = images.view(images.size(0), -1)\n",
        "            outputs = model(images)\n",
        "            loss = criterion(outputs, targets)\n",
        "            loss_acum += loss.item()\n",
        "            _, pred = torch.max(outputs,1)\n",
        "            correct += (pred==targets).sum().item()\n",
        "            total += targets.size(0)\n",
        "    return loss_acum/len(loader), correct/total\n",
        "\n",
        "def entrenar(model, train_loader, valid_loader, epochs=5, lr=0.001):\n",
        "    criterion = nn.CrossEntropyLoss()\n",
        "    optimizer = optim.Adam(model.parameters(), lr=lr)\n",
        "    history = {\"train_loss\":[],\"valid_loss\":[],\"valid_acc\":[]}\n",
        "    for epoch in range(epochs):\n",
        "        model.train()\n",
        "        running_loss = 0\n",
        "        for images, targets in train_loader:\n",
        "            images = images.view(images.size(0),-1)\n",
        "            optimizer.zero_grad()\n",
        "            outputs = model(images)\n",
        "            loss = criterion(outputs, targets)\n",
        "            loss.backward()\n",
        "            optimizer.step()\n",
        "            running_loss += loss.item()\n",
        "        val_loss, val_acc = evaluar(model, valid_loader, criterion)\n",
        "        history[\"train_loss\"].append(running_loss/len(train_loader))\n",
        "        history[\"valid_loss\"].append(val_loss)\n",
        "        history[\"valid_acc\"].append(val_acc)\n",
        "        print(f\"Época {epoch+1}/{epochs} | Train Loss: {running_loss/len(train_loader):.4f} | Valid Loss: {val_loss:.4f} | Valid Acc: {val_acc:.4f}\")\n",
        "    return history\n"
      ],
      "metadata": {
        "id": "BcdkNgnMLTlE"
      },
      "execution_count": 19,
      "outputs": []
    },
    {
      "cell_type": "markdown",
      "source": [
        "Definimos funciones para entrenar y evaluar los modelos.\n",
        "\n",
        "entrenar actualiza los pesos en mini-batches, calcula la pérdida de entrenamiento y valida cada época.\n",
        "\n",
        "evaluar calcula la pérdida y exactitud sin actualizar pesos.\n",
        "Esto permite comparar subajuste, ajuste aceptable y sobreajuste entre los modelos."
      ],
      "metadata": {
        "id": "q54_XsYvVzvf"
      }
    },
    {
      "cell_type": "code",
      "source": [
        "# ======================\n",
        "# 4. Entrenar modelos\n",
        "# ======================\n",
        "modelos = {\n",
        "    \"Subajusta\": Modelo_NN_subajusta(),\n",
        "    \"Aceptable\": Modelo_NN_aceptable(),\n",
        "    \"Sobreajustado\": Modelo_NN_SobreAjustado()\n",
        "}\n",
        "\n",
        "historias = {}\n",
        "for nombre, modelo in modelos.items():\n",
        "    print(f\"\\n=== Entrenando modelo {nombre} ===\")\n",
        "    historias[nombre] = entrenar(modelo, train_loader, valid_loader, epochs=5)\n"
      ],
      "metadata": {
        "colab": {
          "base_uri": "https://localhost:8080/"
        },
        "id": "dOAGsQApPfpc",
        "outputId": "80bebc8e-ed26-42ae-ea5a-4e7542058832"
      },
      "execution_count": 20,
      "outputs": [
        {
          "output_type": "stream",
          "name": "stdout",
          "text": [
            "\n",
            "=== Entrenando modelo Subajusta ===\n",
            "Época 1/5 | Train Loss: 0.2288 | Valid Loss: 0.1121 | Valid Acc: 0.9616\n",
            "Época 2/5 | Train Loss: 0.1079 | Valid Loss: 0.0910 | Valid Acc: 0.9683\n",
            "Época 3/5 | Train Loss: 0.0948 | Valid Loss: 0.0773 | Valid Acc: 0.9750\n",
            "Época 4/5 | Train Loss: 0.0796 | Valid Loss: 0.0710 | Valid Acc: 0.9741\n",
            "Época 5/5 | Train Loss: 0.0692 | Valid Loss: 0.0670 | Valid Acc: 0.9779\n",
            "\n",
            "=== Entrenando modelo Aceptable ===\n",
            "Época 1/5 | Train Loss: 0.1593 | Valid Loss: 0.0806 | Valid Acc: 0.9720\n",
            "Época 2/5 | Train Loss: 0.0748 | Valid Loss: 0.0549 | Valid Acc: 0.9821\n",
            "Época 3/5 | Train Loss: 0.0462 | Valid Loss: 0.0444 | Valid Acc: 0.9858\n",
            "Época 4/5 | Train Loss: 0.0297 | Valid Loss: 0.0332 | Valid Acc: 0.9908\n",
            "Época 5/5 | Train Loss: 0.0200 | Valid Loss: 0.0506 | Valid Acc: 0.9829\n",
            "\n",
            "=== Entrenando modelo Sobreajustado ===\n",
            "Época 1/5 | Train Loss: 0.1366 | Valid Loss: 0.0554 | Valid Acc: 0.9837\n",
            "Época 2/5 | Train Loss: 0.0472 | Valid Loss: 0.0395 | Valid Acc: 0.9858\n",
            "Época 3/5 | Train Loss: 0.0240 | Valid Loss: 0.0283 | Valid Acc: 0.9900\n",
            "Época 4/5 | Train Loss: 0.0235 | Valid Loss: 0.0341 | Valid Acc: 0.9912\n",
            "Época 5/5 | Train Loss: 0.0158 | Valid Loss: 0.0246 | Valid Acc: 0.9917\n"
          ]
        }
      ]
    },
    {
      "cell_type": "markdown",
      "source": [
        "Entrenamos los tres modelos y comparamos su desempeño.\n",
        "\n",
        "El modelo subajustado no aprende suficientemente (underfitting).\n",
        "\n",
        "El modelo aceptable logra un buen equilibrio entre aprendizaje y generalización.\n",
        "\n",
        "El modelo sobreajustado aprende muy bien los datos de entrenamiento, pero puede fallar en generalizar (overfitting).\n",
        "\n",
        "Subajusta:\n",
        "\n",
        "Train y valid loss relativamente altos.\n",
        "\n",
        "Accuracy baja comparada con los demás modelos.\n",
        "\n",
        "Indica que la red es demasiado simple para los datos.\n",
        "\n",
        "Aceptable:\n",
        "\n",
        "Train y valid loss bajos, accuracy alta.\n",
        "\n",
        "Buen equilibrio entre capacidad de aprendizaje y generalización.\n",
        "\n",
        "Sobreajustado:\n",
        "\n",
        "Train loss muy bajo, valid loss más variable.\n",
        "\n",
        "Accuracy de train muy alta, pero la validación puede mostrar ligeras fluctuaciones → evidencia de sobreajuste.\n"
      ],
      "metadata": {
        "id": "XQ0Ud0h3WStk"
      }
    },
    {
      "cell_type": "markdown",
      "source": [
        "### 3.3 Muestre y compare los resultados de cada modelo entre conjuntos de entrenamiento y testeo."
      ],
      "metadata": {
        "id": "DTl-jUhJRgdR"
      }
    },
    {
      "cell_type": "markdown",
      "source": [
        "Muestre y compare los resultados de cada modelo entre conjuntos de entrenamiento y testeo. Escriba sus conclusiones y pasos realizados.\n",
        "\n"
      ],
      "metadata": {
        "id": "aO8adC4pTLPU"
      }
    },
    {
      "cell_type": "code",
      "source": [
        "import matplotlib.pyplot as plt\n",
        "# ======================\n",
        "# 5. Evaluación final en Test y gráficos\n",
        "# ======================\n",
        "criterion = nn.CrossEntropyLoss()\n",
        "for nombre, modelo in modelos.items():\n",
        "    test_loss, test_acc = evaluar(modelo, test_loader, criterion)\n",
        "    print(f\"{nombre} → Test Loss: {test_loss:.4f}, Test Acc: {test_acc:.4f}\")\n",
        "\n",
        "# Graficar Accuracy de validación\n",
        "plt.figure(figsize=(8,5))\n",
        "for nombre, hist in historias.items():\n",
        "    plt.plot(hist[\"valid_acc\"], label=f\"{nombre}\")\n",
        "plt.title(\"Accuracy en Validación\")\n",
        "plt.xlabel(\"Épocas\")\n",
        "plt.ylabel(\"Accuracy\")\n",
        "plt.legend()\n",
        "plt.show()\n"
      ],
      "metadata": {
        "id": "PKO-BN5sTLpo",
        "colab": {
          "base_uri": "https://localhost:8080/",
          "height": 545
        },
        "outputId": "4eeab9b2-47bc-467a-847e-89d114b4fa02"
      },
      "execution_count": 21,
      "outputs": [
        {
          "output_type": "stream",
          "name": "stdout",
          "text": [
            "Subajusta → Test Loss: 0.0793, Test Acc: 0.9743\n",
            "Aceptable → Test Loss: 0.0522, Test Acc: 0.9808\n",
            "Sobreajustado → Test Loss: 0.0203, Test Acc: 0.9934\n"
          ]
        },
        {
          "output_type": "display_data",
          "data": {
            "text/plain": [
              "<Figure size 800x500 with 1 Axes>"
            ],
            "image/png": "[encoded data removed]"
          },
          "metadata": {}
        }
      ]
    },
    {
      "cell_type": "markdown",
      "source": [
        "Evaluamos cada modelo en el conjunto de test para medir su capacidad de generalización.\n",
        "Graficamos la evolución de la accuracy de validación por época, comparando subajuste, ajuste aceptable y sobreajuste. Esto permite visualizar claramente cómo cada modelo aprende y generaliza."
      ],
      "metadata": {
        "id": "VhhOaAszYkBZ"
      }
    },
    {
      "cell_type": "markdown",
      "source": [
        "## 3.4 ¿ Cómo elije el \"modelo aceptable\" o modelo óptimo?\n"
      ],
      "metadata": {
        "id": "AmW-B1A_Th9s"
      }
    },
    {
      "cell_type": "markdown",
      "source": [
        "Describa y programe el procedimiento para determinar un modelo óptimo dado un rango de configuraciones ( por ejemplo dos capas ocultas e ir incrementando unidades ocultas desde un valor inicial a uno final)."
      ],
      "metadata": {
        "id": "2p5jljV8TkEv"
      }
    },
    {
      "cell_type": "code",
      "source": [
        "# ======================\n",
        "# 6. Búsqueda simple de modelo óptimo (dos capas ocultas)\n",
        "# ======================\n",
        "class ModeloVariable(nn.Module):\n",
        "    def __init__(self, h1,h2):\n",
        "        super().__init__()\n",
        "        self.red = nn.Sequential(\n",
        "            nn.Linear(28*28,h1),\n",
        "            nn.ReLU(),\n",
        "            nn.Linear(h1,h2),\n",
        "            nn.ReLU(),\n",
        "            nn.Linear(h2,2)\n",
        "        )\n",
        "    def forward(self,x):\n",
        "        x = x.view(x.size(0),-1)\n",
        "        return self.red(x)\n",
        "\n",
        "hidden1_values = [32,64,128]\n",
        "hidden2_values = [16,32,64]\n",
        "resultados = {}\n",
        "\n",
        "for h1 in hidden1_values:\n",
        "    for h2 in hidden2_values:\n",
        "        print(f\"\\nEntrenando modelo {h1}-{h2}\")\n",
        "        modelo = ModeloVariable(h1,h2)\n",
        "        hist = entrenar(modelo, train_loader, valid_loader, epochs=5)\n",
        "        resultados[(h1,h2)] = hist[\"valid_acc\"][-1]\n",
        "\n",
        "# Mejor configuración\n",
        "mejor = max(resultados, key=resultados.get)\n",
        "print(f\"\\n✅ Mejor modelo: {mejor[0]}-{mejor[1]} neuronas, acc validación={resultados[mejor]:.4f}\")"
      ],
      "metadata": {
        "id": "hYymiY_vTkig",
        "colab": {
          "base_uri": "https://localhost:8080/"
        },
        "outputId": "76e048f8-53dc-4646-d0ca-c50457013c42"
      },
      "execution_count": 22,
      "outputs": [
        {
          "output_type": "stream",
          "name": "stdout",
          "text": [
            "\n",
            "Entrenando modelo 32-16\n",
            "Época 1/5 | Train Loss: 0.2416 | Valid Loss: 0.1119 | Valid Acc: 0.9629\n",
            "Época 2/5 | Train Loss: 0.1014 | Valid Loss: 0.0884 | Valid Acc: 0.9700\n",
            "Época 3/5 | Train Loss: 0.0900 | Valid Loss: 0.0787 | Valid Acc: 0.9741\n",
            "Época 4/5 | Train Loss: 0.0770 | Valid Loss: 0.0649 | Valid Acc: 0.9796\n",
            "Época 5/5 | Train Loss: 0.0585 | Valid Loss: 0.0510 | Valid Acc: 0.9837\n",
            "\n",
            "Entrenando modelo 32-32\n",
            "Época 1/5 | Train Loss: 0.2088 | Valid Loss: 0.0924 | Valid Acc: 0.9679\n",
            "Época 2/5 | Train Loss: 0.0968 | Valid Loss: 0.0796 | Valid Acc: 0.9700\n",
            "Época 3/5 | Train Loss: 0.0735 | Valid Loss: 0.0591 | Valid Acc: 0.9825\n",
            "Época 4/5 | Train Loss: 0.0590 | Valid Loss: 0.0484 | Valid Acc: 0.9841\n",
            "Época 5/5 | Train Loss: 0.0420 | Valid Loss: 0.0401 | Valid Acc: 0.9887\n",
            "\n",
            "Entrenando modelo 32-64\n",
            "Época 1/5 | Train Loss: 0.1845 | Valid Loss: 0.0977 | Valid Acc: 0.9670\n",
            "Época 2/5 | Train Loss: 0.0960 | Valid Loss: 0.0803 | Valid Acc: 0.9733\n",
            "Época 3/5 | Train Loss: 0.0759 | Valid Loss: 0.0620 | Valid Acc: 0.9791\n",
            "Época 4/5 | Train Loss: 0.0566 | Valid Loss: 0.0525 | Valid Acc: 0.9821\n",
            "Época 5/5 | Train Loss: 0.0428 | Valid Loss: 0.0470 | Valid Acc: 0.9829\n",
            "\n",
            "Entrenando modelo 64-16\n",
            "Época 1/5 | Train Loss: 0.1971 | Valid Loss: 0.0916 | Valid Acc: 0.9704\n",
            "Época 2/5 | Train Loss: 0.0975 | Valid Loss: 0.0772 | Valid Acc: 0.9775\n",
            "Época 3/5 | Train Loss: 0.0789 | Valid Loss: 0.0623 | Valid Acc: 0.9762\n",
            "Época 4/5 | Train Loss: 0.0587 | Valid Loss: 0.0530 | Valid Acc: 0.9812\n",
            "Época 5/5 | Train Loss: 0.0443 | Valid Loss: 0.0455 | Valid Acc: 0.9833\n",
            "\n",
            "Entrenando modelo 64-32\n",
            "Época 1/5 | Train Loss: 0.1800 | Valid Loss: 0.0921 | Valid Acc: 0.9720\n",
            "Época 2/5 | Train Loss: 0.0918 | Valid Loss: 0.0733 | Valid Acc: 0.9712\n",
            "Época 3/5 | Train Loss: 0.0685 | Valid Loss: 0.0616 | Valid Acc: 0.9808\n",
            "Época 4/5 | Train Loss: 0.0482 | Valid Loss: 0.0442 | Valid Acc: 0.9866\n",
            "Época 5/5 | Train Loss: 0.0327 | Valid Loss: 0.0418 | Valid Acc: 0.9862\n",
            "\n",
            "Entrenando modelo 64-64\n",
            "Época 1/5 | Train Loss: 0.1694 | Valid Loss: 0.0882 | Valid Acc: 0.9695\n",
            "Época 2/5 | Train Loss: 0.0833 | Valid Loss: 0.0673 | Valid Acc: 0.9779\n",
            "Época 3/5 | Train Loss: 0.0536 | Valid Loss: 0.0412 | Valid Acc: 0.9879\n",
            "Época 4/5 | Train Loss: 0.0334 | Valid Loss: 0.0345 | Valid Acc: 0.9896\n",
            "Época 5/5 | Train Loss: 0.0226 | Valid Loss: 0.0282 | Valid Acc: 0.9908\n",
            "\n",
            "Entrenando modelo 128-16\n",
            "Época 1/5 | Train Loss: 0.1750 | Valid Loss: 0.1014 | Valid Acc: 0.9675\n",
            "Época 2/5 | Train Loss: 0.0861 | Valid Loss: 0.0641 | Valid Acc: 0.9804\n",
            "Época 3/5 | Train Loss: 0.0584 | Valid Loss: 0.0440 | Valid Acc: 0.9892\n",
            "Época 4/5 | Train Loss: 0.0389 | Valid Loss: 0.0346 | Valid Acc: 0.9917\n",
            "Época 5/5 | Train Loss: 0.0245 | Valid Loss: 0.0282 | Valid Acc: 0.9908\n",
            "\n",
            "Entrenando modelo 128-32\n",
            "Época 1/5 | Train Loss: 0.1591 | Valid Loss: 0.0845 | Valid Acc: 0.9733\n",
            "Época 2/5 | Train Loss: 0.0722 | Valid Loss: 0.0568 | Valid Acc: 0.9837\n",
            "Época 3/5 | Train Loss: 0.0429 | Valid Loss: 0.0384 | Valid Acc: 0.9883\n",
            "Época 4/5 | Train Loss: 0.0283 | Valid Loss: 0.0324 | Valid Acc: 0.9904\n",
            "Época 5/5 | Train Loss: 0.0185 | Valid Loss: 0.0250 | Valid Acc: 0.9925\n",
            "\n",
            "Entrenando modelo 128-64\n",
            "Época 1/5 | Train Loss: 0.1559 | Valid Loss: 0.0745 | Valid Acc: 0.9779\n",
            "Época 2/5 | Train Loss: 0.0678 | Valid Loss: 0.0455 | Valid Acc: 0.9871\n",
            "Época 3/5 | Train Loss: 0.0357 | Valid Loss: 0.0325 | Valid Acc: 0.9887\n",
            "Época 4/5 | Train Loss: 0.0232 | Valid Loss: 0.0305 | Valid Acc: 0.9900\n",
            "Época 5/5 | Train Loss: 0.0154 | Valid Loss: 0.0291 | Valid Acc: 0.9904\n",
            "\n",
            "✅ Mejor modelo: 128-32 neuronas, acc validación=0.9925\n"
          ]
        }
      ]
    },
    {
      "cell_type": "markdown",
      "source": [
        "Implementamos una búsqueda simple de modelo óptimo usando dos capas ocultas.\n",
        "Probamos distintas combinaciones de neuronas y seleccionamos aquella que maximiza la accuracy en validación.\n",
        "Esto nos permite encontrar un modelo balanceado, ni demasiado simple (underfitting) ni demasiado grande (overfitting), de forma automática."
      ],
      "metadata": {
        "id": "bbnoYHyHZIXR"
      }
    },
    {
      "cell_type": "markdown",
      "source": [
        "# Conclusiones"
      ],
      "metadata": {
        "id": "ZwPW4DsesBUx"
      }
    },
    {
      "cell_type": "markdown",
      "source": [
        "Construí y comparé redes neuronales para clasificar los dígitos 3 y 8 de MNIST.\n",
        "\n",
        "Se observa cómo el subajuste reduce la performance, el sobreajuste hace que el entrenamiento sea perfecto pero menos estable en validación, y el modelo aceptable logra un buen equilibrio.\n",
        "\n",
        "Con una búsqueda de neuronas en dos capas ocultas, encontré que la combinación 128-32 maximiza la accuracy de validación.\n",
        "\n",
        "Aprendí a evaluar modelos, detectar underfitting y overfitting, y elegir un modelo óptimo basado en métricas de validación."
      ],
      "metadata": {
        "id": "QM3eXc-paebt"
      }
    },
    {
      "cell_type": "markdown",
      "source": [
        "# Referencias"
      ],
      "metadata": {
        "id": "CT7vadrdsDDn"
      }
    },
    {
      "cell_type": "markdown",
      "source": [
        "Utilice ChatGPT para guiarme y la documentacion de docs.pytorch para poder explicar el proceso.\n",
        "En algunos casos que el codigo no funciono me ayude de gemini a travez del colab."
      ],
      "metadata": {
        "id": "qYSAbbD7bA-k"
      }
    }
  ]
}